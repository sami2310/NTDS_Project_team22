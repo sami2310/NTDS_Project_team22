{
 "cells": [
  {
   "cell_type": "markdown",
   "metadata": {
    "toc": true
   },
   "source": [
    "<h1>Table of Contents<span class=\"tocSkip\"></span></h1>\n",
    "<div class=\"toc\"><ul class=\"toc-item\"><li><span><a href=\"#Students\" data-toc-modified-id=\"Students-1\"><span class=\"toc-item-num\">1&nbsp;&nbsp;</span>Students</a></span></li><li><span><a href=\"#Relevant-Imports\" data-toc-modified-id=\"Relevant-Imports-2\"><span class=\"toc-item-num\">2&nbsp;&nbsp;</span>Relevant Imports</a></span></li><li><span><a href=\"#Load-Data\" data-toc-modified-id=\"Load-Data-3\"><span class=\"toc-item-num\">3&nbsp;&nbsp;</span>Load Data</a></span><ul class=\"toc-item\"><li><span><a href=\"#Load-dataFrames\" data-toc-modified-id=\"Load-dataFrames-3.1\"><span class=\"toc-item-num\">3.1&nbsp;&nbsp;</span>Load dataFrames</a></span></li><li><span><a href=\"#Merge-DataFrames\" data-toc-modified-id=\"Merge-DataFrames-3.2\"><span class=\"toc-item-num\">3.2&nbsp;&nbsp;</span>Merge DataFrames</a></span></li></ul></li><li><span><a href=\"#Data-Analysis\" data-toc-modified-id=\"Data-Analysis-4\"><span class=\"toc-item-num\">4&nbsp;&nbsp;</span>Data Analysis</a></span><ul class=\"toc-item\"><li><span><a href=\"#Display-Airport-locations\" data-toc-modified-id=\"Display-Airport-locations-4.1\"><span class=\"toc-item-num\">4.1&nbsp;&nbsp;</span>Display Airport locations</a></span></li><li><span><a href=\"#Airport-connections\" data-toc-modified-id=\"Airport-connections-4.2\"><span class=\"toc-item-num\">4.2&nbsp;&nbsp;</span>Airport connections</a></span></li><li><span><a href=\"#Countries-with-the-most-airports\" data-toc-modified-id=\"Countries-with-the-most-airports-4.3\"><span class=\"toc-item-num\">4.3&nbsp;&nbsp;</span>Countries with the most airports</a></span></li></ul></li><li><span><a href=\"#Smaller-Components\" data-toc-modified-id=\"Smaller-Components-5\"><span class=\"toc-item-num\">5&nbsp;&nbsp;</span>Smaller Components</a></span><ul class=\"toc-item\"><li><span><a href=\"#Helper-Functions-Definition:\" data-toc-modified-id=\"Helper-Functions-Definition:-5.1\"><span class=\"toc-item-num\">5.1&nbsp;&nbsp;</span>Helper Functions Definition:</a></span></li><li><span><a href=\"#Find-Smaller-Components:\" data-toc-modified-id=\"Find-Smaller-Components:-5.2\"><span class=\"toc-item-num\">5.2&nbsp;&nbsp;</span>Find Smaller Components:</a></span></li><li><span><a href=\"#Visualization\" data-toc-modified-id=\"Visualization-5.3\"><span class=\"toc-item-num\">5.3&nbsp;&nbsp;</span>Visualization</a></span></li><li><span><a href=\"#Zooming-in\" data-toc-modified-id=\"Zooming-in-5.4\"><span class=\"toc-item-num\">5.4&nbsp;&nbsp;</span>Zooming in</a></span><ul class=\"toc-item\"><li><span><a href=\"#British-Virgin-Islands\" data-toc-modified-id=\"British-Virgin-Islands-5.4.1\"><span class=\"toc-item-num\">5.4.1&nbsp;&nbsp;</span>British Virgin Islands</a></span></li><li><span><a href=\"#West-of-the-US\" data-toc-modified-id=\"West-of-the-US-5.4.2\"><span class=\"toc-item-num\">5.4.2&nbsp;&nbsp;</span>West of the US</a></span></li><li><span><a href=\"#Umnak-Island\" data-toc-modified-id=\"Umnak-Island-5.4.3\"><span class=\"toc-item-num\">5.4.3&nbsp;&nbsp;</span>Umnak Island</a></span></li><li><span><a href=\"#Some-airports-in-the-area-of-Las-Vegas-:\" data-toc-modified-id=\"Some-airports-in-the-area-of-Las-Vegas-:-5.4.4\"><span class=\"toc-item-num\">5.4.4&nbsp;&nbsp;</span>Some airports in the area of Las Vegas :</a></span></li><li><span><a href=\"#Seattle:\" data-toc-modified-id=\"Seattle:-5.4.5\"><span class=\"toc-item-num\">5.4.5&nbsp;&nbsp;</span>Seattle:</a></span></li><li><span><a href=\"#Namibia:\" data-toc-modified-id=\"Namibia:-5.4.6\"><span class=\"toc-item-num\">5.4.6&nbsp;&nbsp;</span>Namibia:</a></span></li><li><span><a href=\"#New-Caledonia:\" data-toc-modified-id=\"New-Caledonia:-5.4.7\"><span class=\"toc-item-num\">5.4.7&nbsp;&nbsp;</span>New Caledonia:</a></span></li></ul></li></ul></li><li><span><a href=\"#Noth-Korea\" data-toc-modified-id=\"Noth-Korea-6\"><span class=\"toc-item-num\">6&nbsp;&nbsp;</span>Noth Korea</a></span><ul class=\"toc-item\"><li><span><a href=\"#1st-level-connections\" data-toc-modified-id=\"1st-level-connections-6.1\"><span class=\"toc-item-num\">6.1&nbsp;&nbsp;</span>1st level connections</a></span></li><li><span><a href=\"#2nd-level-Connections\" data-toc-modified-id=\"2nd-level-Connections-6.2\"><span class=\"toc-item-num\">6.2&nbsp;&nbsp;</span>2nd level Connections</a></span></li></ul></li><li><span><a href=\"#Flight-Delay-Predictions:\" data-toc-modified-id=\"Flight-Delay-Predictions:-7\"><span class=\"toc-item-num\">7&nbsp;&nbsp;</span>Flight Delay Predictions:</a></span><ul class=\"toc-item\"><li><span><a href=\"#Read-The-data\" data-toc-modified-id=\"Read-The-data-7.1\"><span class=\"toc-item-num\">7.1&nbsp;&nbsp;</span>Read The data</a></span></li><li><span><a href=\"#Explore-and-Clean-The-Data\" data-toc-modified-id=\"Explore-and-Clean-The-Data-7.2\"><span class=\"toc-item-num\">7.2&nbsp;&nbsp;</span>Explore and Clean The Data</a></span></li><li><span><a href=\"#Machine-Learning\" data-toc-modified-id=\"Machine-Learning-7.3\"><span class=\"toc-item-num\">7.3&nbsp;&nbsp;</span>Machine Learning</a></span><ul class=\"toc-item\"><li><span><a href=\"#Gradient-boosted-trees-model-:\" data-toc-modified-id=\"Gradient-boosted-trees-model-:-7.3.1\"><span class=\"toc-item-num\">7.3.1&nbsp;&nbsp;</span>Gradient boosted trees model :</a></span></li><li><span><a href=\"#Random-Forest-:\" data-toc-modified-id=\"Random-Forest-:-7.3.2\"><span class=\"toc-item-num\">7.3.2&nbsp;&nbsp;</span>Random Forest :</a></span></li><li><span><a href=\"#KNN-:\" data-toc-modified-id=\"KNN-:-7.3.3\"><span class=\"toc-item-num\">7.3.3&nbsp;&nbsp;</span>KNN :</a></span></li><li><span><a href=\"#Logistic-Regression-model\" data-toc-modified-id=\"Logistic-Regression-model-7.3.4\"><span class=\"toc-item-num\">7.3.4&nbsp;&nbsp;</span>Logistic Regression model</a></span></li></ul></li></ul></li></ul></div>"
   ]
  },
  {
   "cell_type": "markdown",
   "metadata": {},
   "source": [
    "# Students\n",
    "\n",
    "* Team: `<22>`\n",
    "* Students: `<Sami Ben Hassen, Firas Kanoun, Nourchene Ben Romdhane, Ali Fessi>`\n",
    "* Dataset: `<Flight Routes>`"
   ]
  },
  {
   "cell_type": "markdown",
   "metadata": {},
   "source": [
    "# Relevant Imports"
   ]
  },
  {
   "cell_type": "code",
   "execution_count": 1,
   "metadata": {},
   "outputs": [],
   "source": [
    "import pandas as pd\n",
    "import numpy as np\n",
    "import matplotlib.pyplot as plt\n",
    "import os\n",
    "\n",
    "import folium\n",
    "from IPython.display import IFrame\n",
    "\n",
    "import re\n",
    "import seaborn as sns\n",
    "from sklearn.ensemble import RandomForestClassifier\n",
    "from sklearn.linear_model import LogisticRegression\n",
    "from sklearn.preprocessing import LabelEncoder\n",
    "from sklearn.model_selection import train_test_split, validation_curve, ShuffleSplit, KFold, cross_val_score\n",
    "from sklearn.neighbors import KNeighborsClassifier\n",
    "from sklearn.metrics import accuracy_score\n",
    "from sklearn.decomposition import PCA\n",
    "from sklearn.preprocessing import StandardScaler\n",
    "from sklearn.feature_selection import SelectKBest, f_regression\n",
    "from sklearn.pipeline import Pipeline\n",
    "from sklearn.model_selection import StratifiedKFold, GridSearchCV\n",
    "from xgboost import XGBClassifier\n",
    "\n",
    "import warnings\n",
    "warnings.filterwarnings('ignore')"
   ]
  },
  {
   "cell_type": "markdown",
   "metadata": {},
   "source": [
    "# Load Data"
   ]
  },
  {
   "cell_type": "markdown",
   "metadata": {},
   "source": [
    "## Load dataFrames"
   ]
  },
  {
   "cell_type": "code",
   "execution_count": 2,
   "metadata": {},
   "outputs": [],
   "source": [
    "DATA_FOLDER = './data/'\n",
    "\n",
    "# Load routes\n",
    "route_path = os.path.join(DATA_FOLDER, r'routes.dat')\n",
    "routes = pd.read_csv(route_path, header=None)\n",
    "# Clean column names\n",
    "routes.columns = [\n",
    "    'Airline', 'Airline ID', 'Source airport', 'Source airport ID',\n",
    "    'Destination airport', 'Destination airport ID', 'Codeshare', 'Stops',\n",
    "    'Equipment'\n",
    "]\n",
    "\n",
    "# Load airports\n",
    "airport_path = os.path.join(DATA_FOLDER, r'airports.csv')\n",
    "airport = pd.read_csv(airport_path, header=None)\n",
    "\n",
    "# Clean column names\n",
    "airport.columns = [\n",
    "    \"Airpot_ID\", \"Airport_Name\", \"City\", \"Country\", \"IATA\", \"ICAO\", \"Latitude\",\n",
    "    \"Longitude\", \"Altitude\", \"Timezone\", \"DST\", \"Tz\", \"Type\", \"Source\"\n",
    "]\n",
    "\n",
    "# Load airlines\n",
    "airline_path = os.path.join(DATA_FOLDER, r'airlines.csv')\n",
    "airline = pd.read_csv(airline_path)"
   ]
  },
  {
   "cell_type": "markdown",
   "metadata": {},
   "source": [
    "## Merge DataFrames"
   ]
  },
  {
   "cell_type": "code",
   "execution_count": 3,
   "metadata": {},
   "outputs": [],
   "source": [
    "routes = routes.merge(airport,left_on='Source airport',right_on='IATA')\n",
    "routes = routes[['Airline', 'Airline ID', 'Source airport', 'Source airport ID', 'Destination airport',\n",
    "                    'Destination airport ID','Codeshare', 'Stops','Equipment','Latitude','Longitude','Country']]\n",
    "routes.columns = ['Airline', 'Airline ID', 'Source airport', 'Source airport ID', 'Destination airport',\n",
    "                    'Destination airport ID','Codeshare', 'Stops','Equipment','Source latitude','Source longitude','Source Country'] \n",
    "\n",
    "#Merge to get destination airports coordinates\n",
    "routes = routes.merge(airport,left_on='Destination airport',right_on='IATA')\n",
    "\n",
    "routes = routes[['Airline', 'Airline ID', 'Source airport', 'Source airport ID', 'Destination airport',\n",
    "                    'Destination airport ID','Codeshare', 'Stops','Equipment','Source latitude','Source longitude','Source Country',\n",
    "                    'Latitude','Longitude','Country']]\n",
    "\n",
    "routes.columns = ['Airline', 'Airline ID', 'Source airport', 'Source airport ID', 'Destination airport',\n",
    "                    'Destination airport ID','Codeshare', 'Stops','Equipment','Source latitude','Source longitude','Source Country',\n",
    "                  'Destination latitude','Destination longitude','Destination Country']"
   ]
  },
  {
   "cell_type": "markdown",
   "metadata": {},
   "source": [
    "# Data Analysis"
   ]
  },
  {
   "cell_type": "markdown",
   "metadata": {},
   "source": [
    "## Display Airport locations"
   ]
  },
  {
   "cell_type": "code",
   "execution_count": 4,
   "metadata": {},
   "outputs": [],
   "source": [
    "def plotDot(lat, long, radius, m):\n",
    "    '''input: series that contains a numeric named latitude and a numeric named longitude\n",
    "    this function creates a CircleMarker and adds it to your this_map'''\n",
    "    folium.CircleMarker(\n",
    "        location=[lat, long], radius=radius, weight=1).add_to(m)"
   ]
  },
  {
   "cell_type": "code",
   "execution_count": 5,
   "metadata": {
    "scrolled": false
   },
   "outputs": [
    {
     "data": {
      "text/html": [
       "\n",
       "        <iframe\n",
       "            width=\"900\"\n",
       "            height=\"600\"\n",
       "            src=\"./HTML_files/airport_location.html\"\n",
       "            frameborder=\"0\"\n",
       "            allowfullscreen\n",
       "        ></iframe>\n",
       "        "
      ],
      "text/plain": [
       "<IPython.lib.display.IFrame at 0x1a15837160>"
      ]
     },
     "execution_count": 5,
     "metadata": {},
     "output_type": "execute_result"
    }
   ],
   "source": [
    "m = folium.Map(location=[10, 0],zoom_start=1.5)\n",
    "for index, row in airport.iterrows():\n",
    "    plotDot(row['Latitude'], row['Longitude'], 1, m)\n",
    "\n",
    "m.save('./HTML_files/airport_location.html')\n",
    "IFrame('./HTML_files/airport_location.html', width=900, height=600)"
   ]
  },
  {
   "cell_type": "markdown",
   "metadata": {},
   "source": [
    "## Airport connections"
   ]
  },
  {
   "cell_type": "code",
   "execution_count": 6,
   "metadata": {},
   "outputs": [
    {
     "data": {
      "text/html": [
       "\n",
       "        <iframe\n",
       "            width=\"900\"\n",
       "            height=\"400\"\n",
       "            src=\"./HTML_files/connections.html\"\n",
       "            frameborder=\"0\"\n",
       "            allowfullscreen\n",
       "        ></iframe>\n",
       "        "
      ],
      "text/plain": [
       "<IPython.lib.display.IFrame at 0x1a1b0ecbe0>"
      ]
     },
     "execution_count": 6,
     "metadata": {},
     "output_type": "execute_result"
    }
   ],
   "source": [
    "m = folium.Map(location=[10, 0], zoom_start=1)\n",
    "\n",
    "for index, row in routes.iterrows():\n",
    "    p0 = [row['Source latitude'], row['Source longitude']]\n",
    "    p1 = [row['Destination latitude'], row['Destination longitude']]\n",
    "    folium.PolyLine(locations=[p0, p1], color='blue',weight= .03).add_to(m)\n",
    "\n",
    "m.save('./HTML_files/connections.html')\n",
    "IFrame('./HTML_files/connections.html', width=900, height=400)"
   ]
  },
  {
   "cell_type": "markdown",
   "metadata": {},
   "source": [
    "## Countries with the most airports"
   ]
  },
  {
   "cell_type": "code",
   "execution_count": 7,
   "metadata": {},
   "outputs": [
    {
     "data": {
      "image/png": "[encoded data removed]",
      "text/plain": [
       "<Figure size 1080x504 with 1 Axes>"
      ]
     },
     "metadata": {},
     "output_type": "display_data"
    }
   ],
   "source": [
    "# Group by countries and sort by number of airports\n",
    "sorted_countries = airport.groupby('Country').count()['Airpot_ID'].sort_values(ascending = False)\n",
    "\n",
    "# Get top 25\n",
    "top25 = sorted_countries.head(25)\n",
    "\n",
    "# Plot\n",
    "x = np.arange(25)\n",
    "\n",
    "plt.figure(figsize=(15,7))\n",
    "plt.bar(x, top25,color =(0.2, 0.4, 0.6, 0.6),edgecolor='black')\n",
    "plt.xticks(x, top25.index)\n",
    "plt.xticks(rotation=50)\n",
    "plt.xlabel('Country', fontsize=14)\n",
    "plt.ylabel('Number of airports', fontsize=14)\n",
    "plt.show()\n",
    "\n"
   ]
  },
  {
   "cell_type": "markdown",
   "metadata": {},
   "source": [
    "# Smaller Components"
   ]
  },
  {
   "cell_type": "markdown",
   "metadata": {},
   "source": [
    "## Helper Functions Definition:"
   ]
  },
  {
   "cell_type": "code",
   "execution_count": 8,
   "metadata": {},
   "outputs": [],
   "source": [
    "def dfs(adjacency,start):\n",
    "    \"Depth-First search algorithm\"\n",
    "    #Choose the node start of the graph G as the starting point of discovering the graph\n",
    "    #Determine the set A of all the nodes which can be reached from start_node by applying DFS algorithm\n",
    "    #If A is equal to the set of nodes of G, the graph is connected; otherwise it is disconnected.\n",
    "    \n",
    "    nodes=np.arange(len(adjacency))\n",
    "    visited=np.zeros(len(adjacency))\n",
    "    queue=np.zeros(len(adjacency))\n",
    "    res=True\n",
    "    \n",
    "    #Putting start node as visited and enqueuing it\n",
    "    queue[start]=1\n",
    "    visited[start]=1\n",
    "    \n",
    "    while(np.count_nonzero(queue)!=0):\n",
    "        \n",
    "            #Selecting the starting node for the visit from the queue\n",
    "            for i in range(0,len(queue)):\n",
    "                if queue[i]!=0:\n",
    "                    starting_node=i\n",
    "            \n",
    "            queue[starting_node]=0 #Unqueing the node we are visiting from\n",
    "            \n",
    "            for i in range(0,len(adjacency)):\n",
    "                \n",
    "                if (adjacency[starting_node,i]!=0):#check if the two nodes are connected\n",
    "                    \n",
    "                    if(visited[i]==0):#check if the node is not already visited\n",
    "                        \n",
    "                        queue[i]=1 #Queing the node\n",
    "                        visited[i]=1 #Marking the node as visited\n",
    "                        #print(\"its a match\")\n",
    "    return visited\n",
    "\n",
    "def adjust_adjacency_matrix(adjacency,visited):\n",
    "    \n",
    "    \"\"\"This method is an auxilary method to find the adjacency matrix of a connected component\n",
    "    Parameters\n",
    "    ----------\n",
    "    adjacency: numpy array\n",
    "        The (weighted) adjacency matrix of a graph.\n",
    "    visited: numpy array\n",
    "        An array of zeros. Only indices of nodes belonging to the connected component are put to 1\n",
    "    Returns\n",
    "    -------\n",
    "    Adjacency matrix of the connected component\n",
    "    \"\"\"\n",
    "    \n",
    "    result=np.delete(adjacency, np.where(visited==0), 0)\n",
    "    result=np.delete(result, np.where(visited==0), 1)\n",
    "    \n",
    "    return result\n",
    "\n",
    "def not_visited_nodes(visited):\n",
    "    \n",
    "    \"\"\"This method is an auxilary method to find the list of indices of nodes that haven't been visited yet by DFS\n",
    "    Parameters\n",
    "    ----------\n",
    "    visited: numpy array\n",
    "        An array of zeros where indices of visited nodes are put to 1\n",
    "    Returns\n",
    "    -------\n",
    "        An array of zeros where indices of nodes that are not visited are put to 1 \"\"\"\n",
    "    \n",
    "    j=0\n",
    "    indices=np.zeros(len(visited),dtype=int)\n",
    "    for i in range(0,len(visited)):\n",
    "        \n",
    "        if visited[i]==0:\n",
    "            \n",
    "            indices[j]=i\n",
    "            j+=1\n",
    "            \n",
    "    return indices        \n",
    "            \n",
    "def find_components(adjacency):\n",
    "    \n",
    "    \"\"\"Find the connected components of a graph.\n",
    "    \n",
    "    Parameters\n",
    "    ----------\n",
    "    adjacency: numpy array\n",
    "        The (weighted) adjacency matrix of a graph.\n",
    "    \n",
    "    Returns\n",
    "    -------\n",
    "    list of numpy arrays\n",
    "        A list of adjacency matrices, one per connected component.\n",
    "    \"\"\"\n",
    "    connected_components=[]\n",
    "    \n",
    "    #indices of the connected components\n",
    "    connected_components_indices=[]\n",
    "    \n",
    "    #Finding the first nodes of the first component\n",
    "    visited=dfs(adjacency,0) \n",
    "    connected_components_indices.append(np.where(visited==1))\n",
    "    print('The nodes of component 1',np.where(visited==1))\n",
    "    \n",
    "    connected_components.append(np.array(adjust_adjacency_matrix(adjacency,visited)))\n",
    "   \n",
    "    visited_aux=np.zeros(len(adjacency))\n",
    "    \n",
    "    indices=not_visited_nodes(visited)\n",
    "    \n",
    "    i=1\n",
    "    while(np.count_nonzero(indices)!=0): #Applying the algorithm until all nodes have been visited\n",
    "        i=i+1\n",
    "        visited_aux=dfs(adjacency,indices[0]) #Applying dfs algorithm for nodes that haven't been visited yet\n",
    "        print('The nodes of component ',i,np.where(visited_aux==1))\n",
    "        connected_components_indices.append(np.where(visited_aux==1))\n",
    "        connected_components.append(adjust_adjacency_matrix(adjacency,visited_aux))\n",
    "        visited=np.logical_or(visited,visited_aux)\n",
    "        indices = not_visited_nodes(visited)\n",
    "        \n",
    "        \n",
    "    return connected_components,connected_components_indices"
   ]
  },
  {
   "cell_type": "markdown",
   "metadata": {},
   "source": [
    "## Find Smaller Components:"
   ]
  },
  {
   "cell_type": "code",
   "execution_count": 9,
   "metadata": {
    "scrolled": true
   },
   "outputs": [
    {
     "name": "stdout",
     "output_type": "stream",
     "text": [
      "The nodes of component 1 (array([   0,    1,    2, ..., 3318, 3319, 3320]),)\n",
      "The nodes of component  2 (array([1803, 1804]),)\n",
      "The nodes of component  3 (array([2354, 2355, 2358, 2365]),)\n",
      "The nodes of component  4 (array([2392, 2393]),)\n",
      "The nodes of component  5 (array([2618, 2619, 2621, 2623]),)\n",
      "The nodes of component  6 (array([3006, 3008, 3009, 3011]),)\n",
      "The nodes of component  7 (array([3042, 3043, 3044, 3045, 3046, 3047, 3048, 3049, 3050, 3051]),)\n",
      "Number of nodes : 3321\n",
      "Number of edges : 19186\n",
      "The number of connected components of the graph is 7\n"
     ]
    }
   ],
   "source": [
    "adjacency=np.load('./data/adjacency.npy')\n",
    "\n",
    "#Transforming our adjacency matrix into a non weighted one\n",
    "adjacency[adjacency>0]=1\n",
    "\n",
    "n_nodes=len(adjacency)\n",
    "\n",
    "n_edges=np.sum(np.sum(adjacency))//2\n",
    "\n",
    "components,connected_components_indices=find_components(adjacency)\n",
    "print('Number of nodes :',n_nodes)\n",
    "print('Number of edges :',n_edges)\n",
    "print(\"The number of connected components of the graph is\",len(components))"
   ]
  },
  {
   "cell_type": "code",
   "execution_count": 10,
   "metadata": {},
   "outputs": [],
   "source": [
    "# Load routes\n",
    "features_path = os.path.join(DATA_FOLDER, r'routes.dat')\n",
    "features = pd.read_csv(features_path, header=None)\n",
    "# Clean column names\n",
    "features.columns = [\n",
    "    'Airline', 'Airline ID', 'Source airport', 'Source airport ID',\n",
    "    'Destination airport', 'Destination airport ID', 'Codeshare', 'Stops',\n",
    "    'Equipment'\n",
    "]"
   ]
  },
  {
   "cell_type": "markdown",
   "metadata": {},
   "source": [
    "## Visualization"
   ]
  },
  {
   "cell_type": "code",
   "execution_count": 11,
   "metadata": {
    "scrolled": false
   },
   "outputs": [
    {
     "data": {
      "text/html": [
       "\n",
       "        <iframe\n",
       "            width=\"900\"\n",
       "            height=\"400\"\n",
       "            src=\"./HTML_files/small_components.html\"\n",
       "            frameborder=\"0\"\n",
       "            allowfullscreen\n",
       "        ></iframe>\n",
       "        "
      ],
      "text/plain": [
       "<IPython.lib.display.IFrame at 0x1a4ae01f28>"
      ]
     },
     "execution_count": 11,
     "metadata": {},
     "output_type": "execute_result"
    }
   ],
   "source": [
    "nodes = features[['Source airport ID']].drop_duplicates().reset_index(drop=True)\n",
    "nodes.reset_index(level=0, inplace=True)\n",
    "nodes = nodes.rename(columns={'index':'node_idx'})\n",
    "\n",
    "# Create a conversion table from airport id to node index.\n",
    "aid2idx = nodes[['node_idx', 'Source airport ID']]\n",
    "aid2idx = aid2idx.set_index('Source airport ID')\n",
    "\n",
    "Isolated_components_flights = pd.DataFrame(columns = ['Airline', 'Airline ID', 'Source airport', 'Source airport ID', 'Destination airport',\n",
    "                    'Destination airport ID','Codeshare', 'Stops','Equipment'])\n",
    "\n",
    "#Get a list of the flights of each isolated component\n",
    "for i in range(1,len(connected_components_indices)):\n",
    "    ids = connected_components_indices[i][0]\n",
    "    Isolated_airports_ids = aid2idx[aid2idx['node_idx'].isin(ids)].reset_index()\n",
    "    Isolated_airports_ids = Isolated_airports_ids['Source airport ID']\n",
    "    Isolated_components_flights = pd.concat([Isolated_components_flights,features[features['Source airport ID'].isin(Isolated_airports_ids)]])\n",
    "\n",
    "Isolated_components_flights = Isolated_components_flights.merge(airport,left_on='Source airport',right_on='IATA')\n",
    "Isolated_components_flights = Isolated_components_flights[['Airline', 'Airline ID', 'Source airport', 'Source airport ID', 'Destination airport',\n",
    "                    'Destination airport ID','Codeshare', 'Stops','Equipment','Latitude','Longitude','Country']]\n",
    "Isolated_components_flights.columns = ['Airline', 'Airline ID', 'Source airport', 'Source airport ID', 'Destination airport',\n",
    "                    'Destination airport ID','Codeshare', 'Stops','Equipment','Source latitude','Source longitude','Source Country'] \n",
    "\n",
    "#Merge to get destination airports coordinates\n",
    "Isolated_components_flights = Isolated_components_flights.merge(airport,left_on='Destination airport',right_on='IATA')\n",
    "\n",
    "Isolated_components_flights = Isolated_components_flights[['Airline', 'Airline ID', 'Source airport', 'Source airport ID', 'Destination airport',\n",
    "                    'Destination airport ID','Codeshare', 'Stops','Equipment','Source latitude','Source longitude','Source Country',\n",
    "                    'Latitude','Longitude','Country']]\n",
    "\n",
    "Isolated_components_flights.columns = ['Airline', 'Airline ID', 'Source airport', 'Source airport ID', 'Destination airport',\n",
    "                    'Destination airport ID','Codeshare', 'Stops','Equipment','Source latitude','Source longitude','Source Country',\n",
    "                  'Destination latitude','Destination longitude','Destination Country'] \n",
    "\n",
    "m = folium.Map(location=[10, 0], zoom_start=1)\n",
    "for index, row in Isolated_components_flights.iterrows():\n",
    "        p0 = [row['Source latitude'], row['Source longitude']]\n",
    "        p1 = [row['Destination latitude'], row['Destination longitude']]\n",
    "        folium.PolyLine(locations=[p0, p1], color='blue',weight= 2).add_to(m)\n",
    "\n",
    "m.save('./HTML_files/small_components.html')\n",
    "IFrame('./HTML_files/small_components.html', width=900, height=400)\n"
   ]
  },
  {
   "cell_type": "markdown",
   "metadata": {},
   "source": [
    "## Zooming in"
   ]
  },
  {
   "cell_type": "markdown",
   "metadata": {},
   "source": [
    "### British Virgin Islands"
   ]
  },
  {
   "cell_type": "code",
   "execution_count": 12,
   "metadata": {},
   "outputs": [
    {
     "data": {
      "text/html": [
       "\n",
       "        <iframe\n",
       "            width=\"800\"\n",
       "            height=\"200\"\n",
       "            src=\"./HTML_files/British Virgin Islands.html\"\n",
       "            frameborder=\"0\"\n",
       "            allowfullscreen\n",
       "        ></iframe>\n",
       "        "
      ],
      "text/plain": [
       "<IPython.lib.display.IFrame at 0x1a1665a0b8>"
      ]
     },
     "execution_count": 12,
     "metadata": {},
     "output_type": "execute_result"
    }
   ],
   "source": [
    "virgin = Isolated_components_flights.head(len(connected_components_indices[1][0]))\n",
    "\n",
    "m = folium.Map()\n",
    "\n",
    "for index, row in virgin.iterrows():\n",
    "        p0 = [row['Source latitude'], row['Source longitude']]\n",
    "        p1 = [row['Destination latitude'], row['Destination longitude']]\n",
    "        folium.PolyLine(locations=[p0, p1], color='blue',weight= 2).add_to(m)\n",
    "\n",
    "        m.fit_bounds(m.get_bounds())\n",
    "m.save('./HTML_files/British Virgin Islands.html')\n",
    "IFrame('./HTML_files/British Virgin Islands.html', width=800, height=200)"
   ]
  },
  {
   "cell_type": "markdown",
   "metadata": {},
   "source": [
    "### West of the US"
   ]
  },
  {
   "cell_type": "code",
   "execution_count": 13,
   "metadata": {},
   "outputs": [
    {
     "data": {
      "text/html": [
       "\n",
       "        <iframe\n",
       "            width=\"800\"\n",
       "            height=\"200\"\n",
       "            src=\"./HTML_files/West of the US.html\"\n",
       "            frameborder=\"0\"\n",
       "            allowfullscreen\n",
       "        ></iframe>\n",
       "        "
      ],
      "text/plain": [
       "<IPython.lib.display.IFrame at 0x1a401d9710>"
      ]
     },
     "execution_count": 13,
     "metadata": {},
     "output_type": "execute_result"
    }
   ],
   "source": [
    "Isolated_components_flights = Isolated_components_flights.iloc[len(connected_components_indices[1][0]):]\n",
    "west = Isolated_components_flights.head(len(connected_components_indices[2][0]))\n",
    "\n",
    "m = folium.Map()\n",
    "\n",
    "for index, row in west.iterrows():\n",
    "        p0 = [row['Source latitude'], row['Source longitude']]\n",
    "        p1 = [row['Destination latitude'], row['Destination longitude']]\n",
    "        folium.PolyLine(locations=[p0, p1], color='blue',weight= 2).add_to(m)\n",
    "\n",
    "        m.fit_bounds(m.get_bounds())\n",
    "m.save('./HTML_files/West of the US.html')\n",
    "IFrame('./HTML_files/West of the US.html', width=800, height=200)\n"
   ]
  },
  {
   "cell_type": "markdown",
   "metadata": {},
   "source": [
    "### Umnak Island"
   ]
  },
  {
   "cell_type": "code",
   "execution_count": 14,
   "metadata": {},
   "outputs": [
    {
     "data": {
      "text/html": [
       "\n",
       "        <iframe\n",
       "            width=\"800\"\n",
       "            height=\"200\"\n",
       "            src=\"./HTML_files/Umnak Island.html\"\n",
       "            frameborder=\"0\"\n",
       "            allowfullscreen\n",
       "        ></iframe>\n",
       "        "
      ],
      "text/plain": [
       "<IPython.lib.display.IFrame at 0x1a401d9208>"
      ]
     },
     "execution_count": 14,
     "metadata": {},
     "output_type": "execute_result"
    }
   ],
   "source": [
    "Isolated_components_flights = Isolated_components_flights.iloc[len(connected_components_indices[2][0]):]\n",
    "west = Isolated_components_flights.head(len(connected_components_indices[3][0]))\n",
    "\n",
    "m = folium.Map()\n",
    "\n",
    "for index, row in west.iterrows():\n",
    "        p0 = [row['Source latitude'], row['Source longitude']]\n",
    "        p1 = [row['Destination latitude'], row['Destination longitude']]\n",
    "        folium.PolyLine(locations=[p0, p1], color='blue',weight= 2).add_to(m)\n",
    "\n",
    "        m.fit_bounds(m.get_bounds())\n",
    "m.save('./HTML_files/Umnak Island.html')\n",
    "IFrame('./HTML_files/Umnak Island.html', width=800, height=200)\n"
   ]
  },
  {
   "cell_type": "markdown",
   "metadata": {},
   "source": [
    "### Some airports in the area of Las Vegas :"
   ]
  },
  {
   "cell_type": "code",
   "execution_count": 15,
   "metadata": {},
   "outputs": [
    {
     "data": {
      "text/html": [
       "\n",
       "        <iframe\n",
       "            width=\"800\"\n",
       "            height=\"200\"\n",
       "            src=\"./HTML_files/Las Vegas.html\"\n",
       "            frameborder=\"0\"\n",
       "            allowfullscreen\n",
       "        ></iframe>\n",
       "        "
      ],
      "text/plain": [
       "<IPython.lib.display.IFrame at 0x1a4adff550>"
      ]
     },
     "execution_count": 15,
     "metadata": {},
     "output_type": "execute_result"
    }
   ],
   "source": [
    "Isolated_components_flights = Isolated_components_flights.iloc[len(connected_components_indices[3][0]):]\n",
    "west = Isolated_components_flights.head(len(connected_components_indices[4][0])).iloc[:2]\n",
    "\n",
    "m = folium.Map()\n",
    "\n",
    "for index, row in west.iterrows():\n",
    "        p0 = [row['Source latitude'], row['Source longitude']]\n",
    "        p1 = [row['Destination latitude'], row['Destination longitude']]\n",
    "        folium.PolyLine(locations=[p0, p1], color='blue',weight= 2).add_to(m)\n",
    "\n",
    "        m.fit_bounds(m.get_bounds())\n",
    "m.save('./HTML_files/Las Vegas.html')\n",
    "IFrame('./HTML_files/Las Vegas.html', width=800, height=200)\n"
   ]
  },
  {
   "cell_type": "markdown",
   "metadata": {},
   "source": [
    "### Seattle:"
   ]
  },
  {
   "cell_type": "code",
   "execution_count": 16,
   "metadata": {},
   "outputs": [
    {
     "data": {
      "text/html": [
       "\n",
       "        <iframe\n",
       "            width=\"800\"\n",
       "            height=\"200\"\n",
       "            src=\"./HTML_files/Seattle.html\"\n",
       "            frameborder=\"0\"\n",
       "            allowfullscreen\n",
       "        ></iframe>\n",
       "        "
      ],
      "text/plain": [
       "<IPython.lib.display.IFrame at 0x1a29d7ac88>"
      ]
     },
     "execution_count": 16,
     "metadata": {},
     "output_type": "execute_result"
    }
   ],
   "source": [
    "Isolated_components_flights = Isolated_components_flights.iloc[len(connected_components_indices[4][0]):]\n",
    "west = Isolated_components_flights.head(len(connected_components_indices[5][0]))\n",
    "\n",
    "m = folium.Map()\n",
    "\n",
    "for index, row in west.iterrows():\n",
    "        p0 = [row['Source latitude'], row['Source longitude']]\n",
    "        p1 = [row['Destination latitude'], row['Destination longitude']]\n",
    "        folium.PolyLine(locations=[p0, p1], color='blue',weight= 2).add_to(m)\n",
    "\n",
    "        m.fit_bounds(m.get_bounds())\n",
    "m.save('./HTML_files/Seattle.html')\n",
    "IFrame('./HTML_files/Seattle.html', width=800, height=200)\n"
   ]
  },
  {
   "cell_type": "markdown",
   "metadata": {},
   "source": [
    "### Namibia:"
   ]
  },
  {
   "cell_type": "code",
   "execution_count": 17,
   "metadata": {},
   "outputs": [
    {
     "data": {
      "text/html": [
       "\n",
       "        <iframe\n",
       "            width=\"800\"\n",
       "            height=\"200\"\n",
       "            src=\"./HTML_files/Namibia.html\"\n",
       "            frameborder=\"0\"\n",
       "            allowfullscreen\n",
       "        ></iframe>\n",
       "        "
      ],
      "text/plain": [
       "<IPython.lib.display.IFrame at 0x1a4ae01e10>"
      ]
     },
     "execution_count": 17,
     "metadata": {},
     "output_type": "execute_result"
    }
   ],
   "source": [
    "Isolated_components_flights = Isolated_components_flights.iloc[len(connected_components_indices[5][0]):]\n",
    "west = Isolated_components_flights.head(len(connected_components_indices[6][0]))\n",
    "\n",
    "m = folium.Map()\n",
    "\n",
    "for index, row in west.iterrows():\n",
    "        p0 = [row['Source latitude'], row['Source longitude']]\n",
    "        p1 = [row['Destination latitude'], row['Destination longitude']]\n",
    "        folium.PolyLine(locations=[p0, p1], color='blue',weight= 2).add_to(m)\n",
    "\n",
    "        m.fit_bounds(m.get_bounds())\n",
    "m.save('./HTML_files/Namibia.html')\n",
    "IFrame('./HTML_files/Namibia.html', width=800, height=200)\n"
   ]
  },
  {
   "cell_type": "markdown",
   "metadata": {},
   "source": [
    "### New Caledonia:"
   ]
  },
  {
   "cell_type": "code",
   "execution_count": 18,
   "metadata": {},
   "outputs": [
    {
     "data": {
      "text/html": [
       "\n",
       "        <iframe\n",
       "            width=\"800\"\n",
       "            height=\"200\"\n",
       "            src=\"./HTML_files/New Caledonia.html\"\n",
       "            frameborder=\"0\"\n",
       "            allowfullscreen\n",
       "        ></iframe>\n",
       "        "
      ],
      "text/plain": [
       "<IPython.lib.display.IFrame at 0x1a401d93c8>"
      ]
     },
     "execution_count": 18,
     "metadata": {},
     "output_type": "execute_result"
    }
   ],
   "source": [
    "Isolated_components_flights = Isolated_components_flights.iloc[len(connected_components_indices[6][0]):]\n",
    "\n",
    "m = folium.Map()\n",
    "\n",
    "for index, row in Isolated_components_flights.iterrows():\n",
    "        p0 = [row['Source latitude'], row['Source longitude']]\n",
    "        p1 = [row['Destination latitude'], row['Destination longitude']]\n",
    "        folium.PolyLine(locations=[p0, p1], color='blue',weight= 2).add_to(m)\n",
    "\n",
    "        m.fit_bounds(m.get_bounds())\n",
    "m.save('./HTML_files/New Caledonia.html')\n",
    "IFrame('./HTML_files/New Caledonia.html', width=800, height=200)\n"
   ]
  },
  {
   "cell_type": "markdown",
   "metadata": {},
   "source": [
    "# Noth Korea"
   ]
  },
  {
   "cell_type": "markdown",
   "metadata": {},
   "source": [
    "## 1st level connections"
   ]
  },
  {
   "cell_type": "code",
   "execution_count": 19,
   "metadata": {
    "scrolled": true
   },
   "outputs": [],
   "source": [
    "# Get flights that contain north korea as a Source or destination country\n",
    "north_korea = routes[routes['Source Country'].str.contains(\"North Korea\")\n",
    "                     | routes['Destination Country'].str.\n",
    "                     contains(\"North Korea\")]"
   ]
  },
  {
   "cell_type": "code",
   "execution_count": 20,
   "metadata": {
    "scrolled": false
   },
   "outputs": [
    {
     "data": {
      "text/html": [
       "\n",
       "        <iframe\n",
       "            width=\"900\"\n",
       "            height=\"400\"\n",
       "            src=\"./HTML_files/North_Korea.html\"\n",
       "            frameborder=\"0\"\n",
       "            allowfullscreen\n",
       "        ></iframe>\n",
       "        "
      ],
      "text/plain": [
       "<IPython.lib.display.IFrame at 0x1a29db8278>"
      ]
     },
     "execution_count": 20,
     "metadata": {},
     "output_type": "execute_result"
    }
   ],
   "source": [
    "m = folium.Map()\n",
    "\n",
    "for index, row in north_korea.iterrows():\n",
    "    p0 = [row['Source latitude'], row['Source longitude']]\n",
    "    p1 = [row['Destination latitude'], row['Destination longitude']]\n",
    "    folium.PolyLine(locations=[p0, p1], color='blue',weight= 5).add_to(m)\n",
    "\n",
    "m.fit_bounds(m.get_bounds())\n",
    "\n",
    "m.save('./HTML_files/North_Korea.html')\n",
    "IFrame('./HTML_files/North_Korea.html', width=900, height=400)\n"
   ]
  },
  {
   "cell_type": "code",
   "execution_count": 21,
   "metadata": {},
   "outputs": [
    {
     "data": {
      "text/plain": [
       "['Malaysia', 'China', 'Russia']"
      ]
     },
     "execution_count": 21,
     "metadata": {},
     "output_type": "execute_result"
    }
   ],
   "source": [
    "neighbours = north_korea['Source Country'].unique().tolist()\n",
    "neighbours.remove('North Korea')\n",
    "neighbours"
   ]
  },
  {
   "cell_type": "markdown",
   "metadata": {},
   "source": [
    "**Not surprised to see that it is only connected to 3 countries :'Malaysia', 'China', 'Russia'\n",
    "through only one airport in each country except China where the number is 2**"
   ]
  },
  {
   "cell_type": "markdown",
   "metadata": {},
   "source": [
    "## 2nd level Connections"
   ]
  },
  {
   "cell_type": "code",
   "execution_count": 22,
   "metadata": {},
   "outputs": [],
   "source": [
    "# Locate neighbouring flights\n",
    "neighbouring_flights = routes[routes['Destination Country'].isin(neighbours)]\n",
    "neighbouring_flights = neighbouring_flights.drop_duplicates(subset=['Destination Country','Source Country'], keep=\"last\")\n",
    "\n"
   ]
  },
  {
   "cell_type": "code",
   "execution_count": 23,
   "metadata": {},
   "outputs": [
    {
     "data": {
      "text/html": [
       "\n",
       "        <iframe\n",
       "            width=\"900\"\n",
       "            height=\"400\"\n",
       "            src=\"./HTML_files/2ndlevel_connections.html\"\n",
       "            frameborder=\"0\"\n",
       "            allowfullscreen\n",
       "        ></iframe>\n",
       "        "
      ],
      "text/plain": [
       "<IPython.lib.display.IFrame at 0x1a29dda860>"
      ]
     },
     "execution_count": 23,
     "metadata": {},
     "output_type": "execute_result"
    }
   ],
   "source": [
    "m = folium.Map(location=[10, 0])\n",
    "\n",
    "for index, row in neighbouring_flights.iterrows():\n",
    "    p0 = [row['Source latitude'], row['Source longitude']]\n",
    "    p1 = [row['Destination latitude'], row['Destination longitude']]\n",
    "    if (row['Destination Country'] == 'North Korea' or row['Source Country'] == 'North Korea'):\n",
    "        folium.PolyLine(locations=[p0, p1], color='red',weight= 4).add_to(m)\n",
    "    else:\n",
    "        folium.PolyLine(locations=[p0, p1], color='blue',weight= 0.3).add_to(m)\n",
    "        \n",
    "\n",
    "m.fit_bounds(m.get_bounds())\n",
    "m.save('./HTML_files/2ndlevel_connections.html')\n",
    "IFrame('./HTML_files/2ndlevel_connections.html', width=900, height=400)"
   ]
  },
  {
   "cell_type": "markdown",
   "metadata": {},
   "source": [
    "**Here we can see that even though North Korea is an anti social country. Most of the countries can get to it in 2 steps through Malaysia**"
   ]
  },
  {
   "cell_type": "markdown",
   "metadata": {},
   "source": [
    "# Flight Delay Predictions:"
   ]
  },
  {
   "cell_type": "markdown",
   "metadata": {},
   "source": [
    "In this part, we used some data corresponding to American flights characteristics during 2015. Our goal is to predict whether the delay corresponding to a flight departure time is negligible or not. Rows correspond to the details of a flight, which means the airline, the origin airport, the destination airport, the scheduled departure time and the scheduled arrival time. In addition, our data set contains features necessary for the evaluation of the delay level, i.e. whether the difference between the scheduled departure time and the actual departure time is considered negligible ( <= 30 min and labeled 0 ) or important ( > 30 and labeled 1 ). Many models/classifiers have been tried in order to come to the best result."
   ]
  },
  {
   "cell_type": "markdown",
   "metadata": {},
   "source": [
    "## Read The data"
   ]
  },
  {
   "cell_type": "code",
   "execution_count": 24,
   "metadata": {},
   "outputs": [
    {
     "data": {
      "text/plain": [
       "(390064, 8)"
      ]
     },
     "execution_count": 24,
     "metadata": {},
     "output_type": "execute_result"
    }
   ],
   "source": [
    "flights = pd.read_csv('data/flights_df.csv')\n",
    "flights.shape"
   ]
  },
  {
   "cell_type": "code",
   "execution_count": 25,
   "metadata": {},
   "outputs": [
    {
     "data": {
      "text/html": [
       "<div>\n",
       "<style scoped>\n",
       "    .dataframe tbody tr th:only-of-type {\n",
       "        vertical-align: middle;\n",
       "    }\n",
       "\n",
       "    .dataframe tbody tr th {\n",
       "        vertical-align: top;\n",
       "    }\n",
       "\n",
       "    .dataframe thead th {\n",
       "        text-align: right;\n",
       "    }\n",
       "</style>\n",
       "<table border=\"1\" class=\"dataframe\">\n",
       "  <thead>\n",
       "    <tr style=\"text-align: right;\">\n",
       "      <th></th>\n",
       "      <th>AIRLINE</th>\n",
       "      <th>ORIGIN_AIRPORT</th>\n",
       "      <th>DESTINATION_AIRPORT</th>\n",
       "      <th>SCHEDULED_DEPARTURE</th>\n",
       "      <th>DEPARTURE_TIME</th>\n",
       "      <th>DEPARTURE_DELAY</th>\n",
       "      <th>SCHEDULED_ARRIVAL</th>\n",
       "      <th>DELAY_LEVEL</th>\n",
       "    </tr>\n",
       "  </thead>\n",
       "  <tbody>\n",
       "    <tr>\n",
       "      <th>0</th>\n",
       "      <td>AS</td>\n",
       "      <td>ANC</td>\n",
       "      <td>SEA</td>\n",
       "      <td>2015-01-01 00:05:00</td>\n",
       "      <td>23:54:00</td>\n",
       "      <td>-11.0</td>\n",
       "      <td>04:30:00</td>\n",
       "      <td>0</td>\n",
       "    </tr>\n",
       "    <tr>\n",
       "      <th>1</th>\n",
       "      <td>AA</td>\n",
       "      <td>LAX</td>\n",
       "      <td>PBI</td>\n",
       "      <td>2015-01-01 00:10:00</td>\n",
       "      <td>00:02:00</td>\n",
       "      <td>-8.0</td>\n",
       "      <td>07:50:00</td>\n",
       "      <td>0</td>\n",
       "    </tr>\n",
       "    <tr>\n",
       "      <th>2</th>\n",
       "      <td>US</td>\n",
       "      <td>SFO</td>\n",
       "      <td>CLT</td>\n",
       "      <td>2015-01-01 00:20:00</td>\n",
       "      <td>00:18:00</td>\n",
       "      <td>-2.0</td>\n",
       "      <td>08:06:00</td>\n",
       "      <td>0</td>\n",
       "    </tr>\n",
       "    <tr>\n",
       "      <th>3</th>\n",
       "      <td>AA</td>\n",
       "      <td>LAX</td>\n",
       "      <td>MIA</td>\n",
       "      <td>2015-01-01 00:20:00</td>\n",
       "      <td>00:15:00</td>\n",
       "      <td>-5.0</td>\n",
       "      <td>08:05:00</td>\n",
       "      <td>0</td>\n",
       "    </tr>\n",
       "    <tr>\n",
       "      <th>4</th>\n",
       "      <td>AS</td>\n",
       "      <td>SEA</td>\n",
       "      <td>ANC</td>\n",
       "      <td>2015-01-01 00:25:00</td>\n",
       "      <td>00:24:00</td>\n",
       "      <td>-1.0</td>\n",
       "      <td>03:20:00</td>\n",
       "      <td>0</td>\n",
       "    </tr>\n",
       "  </tbody>\n",
       "</table>\n",
       "</div>"
      ],
      "text/plain": [
       "  AIRLINE ORIGIN_AIRPORT DESTINATION_AIRPORT  SCHEDULED_DEPARTURE  \\\n",
       "0      AS            ANC                 SEA  2015-01-01 00:05:00   \n",
       "1      AA            LAX                 PBI  2015-01-01 00:10:00   \n",
       "2      US            SFO                 CLT  2015-01-01 00:20:00   \n",
       "3      AA            LAX                 MIA  2015-01-01 00:20:00   \n",
       "4      AS            SEA                 ANC  2015-01-01 00:25:00   \n",
       "\n",
       "  DEPARTURE_TIME  DEPARTURE_DELAY SCHEDULED_ARRIVAL  DELAY_LEVEL  \n",
       "0       23:54:00            -11.0          04:30:00            0  \n",
       "1       00:02:00             -8.0          07:50:00            0  \n",
       "2       00:18:00             -2.0          08:06:00            0  \n",
       "3       00:15:00             -5.0          08:05:00            0  \n",
       "4       00:24:00             -1.0          03:20:00            0  "
      ]
     },
     "execution_count": 25,
     "metadata": {},
     "output_type": "execute_result"
    }
   ],
   "source": [
    "flights.head()"
   ]
  },
  {
   "cell_type": "markdown",
   "metadata": {},
   "source": [
    "## Explore and Clean The Data"
   ]
  },
  {
   "cell_type": "code",
   "execution_count": 26,
   "metadata": {},
   "outputs": [
    {
     "name": "stdout",
     "output_type": "stream",
     "text": [
      "DELAY_LEVEL    2\n",
      "dtype: int64\n"
     ]
    }
   ],
   "source": [
    "print(flights[['DELAY_LEVEL']].nunique())"
   ]
  },
  {
   "cell_type": "markdown",
   "metadata": {},
   "source": [
    "We are not interested in the date, hence we only leave the departure time :"
   ]
  },
  {
   "cell_type": "code",
   "execution_count": 27,
   "metadata": {},
   "outputs": [
    {
     "data": {
      "text/html": [
       "<div>\n",
       "<style scoped>\n",
       "    .dataframe tbody tr th:only-of-type {\n",
       "        vertical-align: middle;\n",
       "    }\n",
       "\n",
       "    .dataframe tbody tr th {\n",
       "        vertical-align: top;\n",
       "    }\n",
       "\n",
       "    .dataframe thead th {\n",
       "        text-align: right;\n",
       "    }\n",
       "</style>\n",
       "<table border=\"1\" class=\"dataframe\">\n",
       "  <thead>\n",
       "    <tr style=\"text-align: right;\">\n",
       "      <th></th>\n",
       "      <th>AIRLINE</th>\n",
       "      <th>ORIGIN_AIRPORT</th>\n",
       "      <th>DESTINATION_AIRPORT</th>\n",
       "      <th>SCHEDULED_DEPARTURE</th>\n",
       "      <th>DEPARTURE_TIME</th>\n",
       "      <th>DEPARTURE_DELAY</th>\n",
       "      <th>SCHEDULED_ARRIVAL</th>\n",
       "      <th>DELAY_LEVEL</th>\n",
       "    </tr>\n",
       "  </thead>\n",
       "  <tbody>\n",
       "    <tr>\n",
       "      <th>0</th>\n",
       "      <td>AS</td>\n",
       "      <td>ANC</td>\n",
       "      <td>SEA</td>\n",
       "      <td>00:05:00</td>\n",
       "      <td>23:54:00</td>\n",
       "      <td>-11.0</td>\n",
       "      <td>04:30:00</td>\n",
       "      <td>0</td>\n",
       "    </tr>\n",
       "    <tr>\n",
       "      <th>1</th>\n",
       "      <td>AA</td>\n",
       "      <td>LAX</td>\n",
       "      <td>PBI</td>\n",
       "      <td>00:10:00</td>\n",
       "      <td>00:02:00</td>\n",
       "      <td>-8.0</td>\n",
       "      <td>07:50:00</td>\n",
       "      <td>0</td>\n",
       "    </tr>\n",
       "    <tr>\n",
       "      <th>2</th>\n",
       "      <td>US</td>\n",
       "      <td>SFO</td>\n",
       "      <td>CLT</td>\n",
       "      <td>00:20:00</td>\n",
       "      <td>00:18:00</td>\n",
       "      <td>-2.0</td>\n",
       "      <td>08:06:00</td>\n",
       "      <td>0</td>\n",
       "    </tr>\n",
       "    <tr>\n",
       "      <th>3</th>\n",
       "      <td>AA</td>\n",
       "      <td>LAX</td>\n",
       "      <td>MIA</td>\n",
       "      <td>00:20:00</td>\n",
       "      <td>00:15:00</td>\n",
       "      <td>-5.0</td>\n",
       "      <td>08:05:00</td>\n",
       "      <td>0</td>\n",
       "    </tr>\n",
       "    <tr>\n",
       "      <th>4</th>\n",
       "      <td>AS</td>\n",
       "      <td>SEA</td>\n",
       "      <td>ANC</td>\n",
       "      <td>00:25:00</td>\n",
       "      <td>00:24:00</td>\n",
       "      <td>-1.0</td>\n",
       "      <td>03:20:00</td>\n",
       "      <td>0</td>\n",
       "    </tr>\n",
       "  </tbody>\n",
       "</table>\n",
       "</div>"
      ],
      "text/plain": [
       "  AIRLINE ORIGIN_AIRPORT DESTINATION_AIRPORT SCHEDULED_DEPARTURE  \\\n",
       "0      AS            ANC                 SEA            00:05:00   \n",
       "1      AA            LAX                 PBI            00:10:00   \n",
       "2      US            SFO                 CLT            00:20:00   \n",
       "3      AA            LAX                 MIA            00:20:00   \n",
       "4      AS            SEA                 ANC            00:25:00   \n",
       "\n",
       "  DEPARTURE_TIME  DEPARTURE_DELAY SCHEDULED_ARRIVAL  DELAY_LEVEL  \n",
       "0       23:54:00            -11.0          04:30:00            0  \n",
       "1       00:02:00             -8.0          07:50:00            0  \n",
       "2       00:18:00             -2.0          08:06:00            0  \n",
       "3       00:15:00             -5.0          08:05:00            0  \n",
       "4       00:24:00             -1.0          03:20:00            0  "
      ]
     },
     "execution_count": 27,
     "metadata": {},
     "output_type": "execute_result"
    }
   ],
   "source": [
    "from datetime import datetime\n",
    "flights['SCHEDULED_DEPARTURE'] =  flights['SCHEDULED_DEPARTURE'].apply(lambda x: datetime.strptime(x, '%Y-%m-%d %H:%M:%S'))\n",
    "flights['SCHEDULED_DEPARTURE'] =  flights['SCHEDULED_DEPARTURE'].apply(lambda x:x.time())\n",
    "flights.head()"
   ]
  },
  {
   "cell_type": "markdown",
   "metadata": {},
   "source": [
    "We remove all the entries where the flights have a delay of more than 12 hours, which we will consider as if they have been rescheduled/canceled."
   ]
  },
  {
   "cell_type": "code",
   "execution_count": 28,
   "metadata": {},
   "outputs": [
    {
     "data": {
      "text/plain": [
       "11.833333333333334"
      ]
     },
     "execution_count": 28,
     "metadata": {},
     "output_type": "execute_result"
    }
   ],
   "source": [
    "flights.drop(flights[flights.DEPARTURE_DELAY > 720].index, inplace=True)\n",
    "flights['DEPARTURE_DELAY'].max()/60"
   ]
  },
  {
   "cell_type": "code",
   "execution_count": 29,
   "metadata": {},
   "outputs": [
    {
     "data": {
      "text/html": [
       "<div>\n",
       "<style scoped>\n",
       "    .dataframe tbody tr th:only-of-type {\n",
       "        vertical-align: middle;\n",
       "    }\n",
       "\n",
       "    .dataframe tbody tr th {\n",
       "        vertical-align: top;\n",
       "    }\n",
       "\n",
       "    .dataframe thead th {\n",
       "        text-align: right;\n",
       "    }\n",
       "</style>\n",
       "<table border=\"1\" class=\"dataframe\">\n",
       "  <thead>\n",
       "    <tr style=\"text-align: right;\">\n",
       "      <th></th>\n",
       "      <th>AIRLINE</th>\n",
       "      <th>ORIGIN_AIRPORT</th>\n",
       "      <th>DESTINATION_AIRPORT</th>\n",
       "      <th>SCHEDULED_DEPARTURE</th>\n",
       "      <th>SCHEDULED_ARRIVAL</th>\n",
       "    </tr>\n",
       "  </thead>\n",
       "  <tbody>\n",
       "    <tr>\n",
       "      <th>0</th>\n",
       "      <td>AS</td>\n",
       "      <td>ANC</td>\n",
       "      <td>SEA</td>\n",
       "      <td>00:05:00</td>\n",
       "      <td>04:30:00</td>\n",
       "    </tr>\n",
       "    <tr>\n",
       "      <th>1</th>\n",
       "      <td>AA</td>\n",
       "      <td>LAX</td>\n",
       "      <td>PBI</td>\n",
       "      <td>00:10:00</td>\n",
       "      <td>07:50:00</td>\n",
       "    </tr>\n",
       "  </tbody>\n",
       "</table>\n",
       "</div>"
      ],
      "text/plain": [
       "  AIRLINE ORIGIN_AIRPORT DESTINATION_AIRPORT SCHEDULED_DEPARTURE  \\\n",
       "0      AS            ANC                 SEA            00:05:00   \n",
       "1      AA            LAX                 PBI            00:10:00   \n",
       "\n",
       "  SCHEDULED_ARRIVAL  \n",
       "0          04:30:00  \n",
       "1          07:50:00  "
      ]
     },
     "execution_count": 29,
     "metadata": {},
     "output_type": "execute_result"
    }
   ],
   "source": [
    "#seperate the target\n",
    "target = flights['DELAY_LEVEL']\n",
    "leaky_columns = ['DEPARTURE_TIME', 'DEPARTURE_DELAY', 'DELAY_LEVEL']\n",
    "\n",
    "#Dropping columns that have information leakage \n",
    "encoded = flights\n",
    "encoded.drop(columns = leaky_columns, inplace = True)\n",
    "encoded.head(2)"
   ]
  },
  {
   "cell_type": "code",
   "execution_count": 30,
   "metadata": {},
   "outputs": [
    {
     "name": "stdout",
     "output_type": "stream",
     "text": [
      "AIRLINE    14\n",
      "dtype: int64\n",
      "ORIGIN_AIRPORT    312\n",
      "dtype: int64\n",
      "DESTINATION_AIRPORT    312\n",
      "dtype: int64\n",
      "SCHEDULED_DEPARTURE    1174\n",
      "dtype: int64\n",
      "SCHEDULED_ARRIVAL    1302\n",
      "dtype: int64\n"
     ]
    }
   ],
   "source": [
    "print(encoded[['AIRLINE']].nunique())\n",
    "print(encoded[['ORIGIN_AIRPORT']].nunique())\n",
    "print(encoded[['DESTINATION_AIRPORT']].nunique())\n",
    "print(encoded[['SCHEDULED_DEPARTURE']].nunique())\n",
    "print(encoded[['SCHEDULED_ARRIVAL']].nunique())"
   ]
  },
  {
   "cell_type": "markdown",
   "metadata": {},
   "source": [
    "**since there are 390 005 observations and the set of variables that can be taken by each feature is finite, we encode these categorical textual variables using a label encoder in order to use them in our learning algorithms.**"
   ]
  },
  {
   "cell_type": "code",
   "execution_count": 31,
   "metadata": {},
   "outputs": [
    {
     "data": {
      "text/html": [
       "<div>\n",
       "<style scoped>\n",
       "    .dataframe tbody tr th:only-of-type {\n",
       "        vertical-align: middle;\n",
       "    }\n",
       "\n",
       "    .dataframe tbody tr th {\n",
       "        vertical-align: top;\n",
       "    }\n",
       "\n",
       "    .dataframe thead th {\n",
       "        text-align: right;\n",
       "    }\n",
       "</style>\n",
       "<table border=\"1\" class=\"dataframe\">\n",
       "  <thead>\n",
       "    <tr style=\"text-align: right;\">\n",
       "      <th></th>\n",
       "      <th>AIRLINE</th>\n",
       "    </tr>\n",
       "  </thead>\n",
       "  <tbody>\n",
       "    <tr>\n",
       "      <th>0</th>\n",
       "      <td>1</td>\n",
       "    </tr>\n",
       "    <tr>\n",
       "      <th>1</th>\n",
       "      <td>0</td>\n",
       "    </tr>\n",
       "    <tr>\n",
       "      <th>2</th>\n",
       "      <td>11</td>\n",
       "    </tr>\n",
       "  </tbody>\n",
       "</table>\n",
       "</div>"
      ],
      "text/plain": [
       "   AIRLINE\n",
       "0        1\n",
       "1        0\n",
       "2       11"
      ]
     },
     "execution_count": 31,
     "metadata": {},
     "output_type": "execute_result"
    }
   ],
   "source": [
    "lab_enc = LabelEncoder()\n",
    "airline_encoded = lab_enc.fit_transform(encoded.AIRLINE)\n",
    "encoded['AIRLINE']=airline_encoded\n",
    "encoded[['AIRLINE']].head(3)"
   ]
  },
  {
   "cell_type": "code",
   "execution_count": 32,
   "metadata": {},
   "outputs": [],
   "source": [
    "lab_enc2 = LabelEncoder()\n",
    "orig_airp_encoded = lab_enc2.fit_transform(encoded.ORIGIN_AIRPORT)\n",
    "encoded['ORIGIN_AIRPORT']=orig_airp_encoded\n",
    "lab_enc3 = LabelEncoder()\n",
    "dest_airp_encoded = lab_enc3.fit_transform(encoded.DESTINATION_AIRPORT)\n",
    "encoded['DESTINATION_AIRPORT']=dest_airp_encoded\n",
    "lab_enc4 = LabelEncoder()\n",
    "departure_encoded = lab_enc4.fit_transform(encoded.SCHEDULED_DEPARTURE)\n",
    "encoded['SCHEDULED_DEPARTURE']=departure_encoded\n",
    "lab_enc5 = LabelEncoder()\n",
    "arrival_encoded = lab_enc5.fit_transform(encoded.SCHEDULED_ARRIVAL)\n",
    "encoded['SCHEDULED_ARRIVAL']=arrival_encoded"
   ]
  },
  {
   "cell_type": "code",
   "execution_count": 33,
   "metadata": {},
   "outputs": [
    {
     "data": {
      "text/html": [
       "<div>\n",
       "<style scoped>\n",
       "    .dataframe tbody tr th:only-of-type {\n",
       "        vertical-align: middle;\n",
       "    }\n",
       "\n",
       "    .dataframe tbody tr th {\n",
       "        vertical-align: top;\n",
       "    }\n",
       "\n",
       "    .dataframe thead th {\n",
       "        text-align: right;\n",
       "    }\n",
       "</style>\n",
       "<table border=\"1\" class=\"dataframe\">\n",
       "  <thead>\n",
       "    <tr style=\"text-align: right;\">\n",
       "      <th></th>\n",
       "      <th>AIRLINE</th>\n",
       "      <th>ORIGIN_AIRPORT</th>\n",
       "      <th>DESTINATION_AIRPORT</th>\n",
       "      <th>SCHEDULED_DEPARTURE</th>\n",
       "      <th>SCHEDULED_ARRIVAL</th>\n",
       "    </tr>\n",
       "  </thead>\n",
       "  <tbody>\n",
       "    <tr>\n",
       "      <th>0</th>\n",
       "      <td>1</td>\n",
       "      <td>15</td>\n",
       "      <td>268</td>\n",
       "      <td>0</td>\n",
       "      <td>139</td>\n",
       "    </tr>\n",
       "    <tr>\n",
       "      <th>1</th>\n",
       "      <td>0</td>\n",
       "      <td>168</td>\n",
       "      <td>226</td>\n",
       "      <td>1</td>\n",
       "      <td>332</td>\n",
       "    </tr>\n",
       "    <tr>\n",
       "      <th>2</th>\n",
       "      <td>11</td>\n",
       "      <td>269</td>\n",
       "      <td>62</td>\n",
       "      <td>3</td>\n",
       "      <td>348</td>\n",
       "    </tr>\n",
       "  </tbody>\n",
       "</table>\n",
       "</div>"
      ],
      "text/plain": [
       "   AIRLINE  ORIGIN_AIRPORT  DESTINATION_AIRPORT  SCHEDULED_DEPARTURE  \\\n",
       "0        1              15                  268                    0   \n",
       "1        0             168                  226                    1   \n",
       "2       11             269                   62                    3   \n",
       "\n",
       "   SCHEDULED_ARRIVAL  \n",
       "0                139  \n",
       "1                332  \n",
       "2                348  "
      ]
     },
     "execution_count": 33,
     "metadata": {},
     "output_type": "execute_result"
    }
   ],
   "source": [
    "encoded.head(3)"
   ]
  },
  {
   "cell_type": "markdown",
   "metadata": {},
   "source": [
    "## Machine Learning"
   ]
  },
  {
   "cell_type": "code",
   "execution_count": 34,
   "metadata": {},
   "outputs": [],
   "source": [
    "#splitting into train and test sets\n",
    "X_train, X_test, y_train, y_test = train_test_split(encoded, target, test_size = 0.2, random_state = 1)\n",
    "\n",
    "#splitting to also get a validation set for cross validation\n",
    "X_train_train, X_train_val, y_train_train, y_train_val = train_test_split(X_train, y_train, test_size = 0.25, random_state = 2)"
   ]
  },
  {
   "cell_type": "markdown",
   "metadata": {},
   "source": [
    "**Trying 4 different classifiers while tuning their hyper-parameters in order to obtain the optimal results :**"
   ]
  },
  {
   "cell_type": "markdown",
   "metadata": {},
   "source": [
    "### Gradient boosted trees model :"
   ]
  },
  {
   "cell_type": "code",
   "execution_count": 35,
   "metadata": {},
   "outputs": [],
   "source": [
    "def nested_cv(X, y, est_pipe, p_grid, p_score, n_splits_inner = 3, n_splits_outer = 3, n_cores = 1, seed = 0):\n",
    "    '''Function for nested cross-validation, useful for tuning the hyper parameters n_estimators of the XGBClassifier.'''\n",
    "    ests = []\n",
    "    # cross-validation schema for inner and outer loops\n",
    "    inner_cv = StratifiedKFold(n_splits = n_splits_inner, shuffle = True, random_state = seed)\n",
    "    outer_cv = StratifiedKFold(n_splits = n_splits_outer, shuffle = True, random_state = seed)\n",
    "\n",
    "    # grid search to tune hyper parameters\n",
    "    est = GridSearchCV(estimator = est_pipe, param_grid = p_grid, cv = inner_cv, scoring = p_score, n_jobs = n_cores)\n",
    "    ests.append(est)\n",
    "    # nested CV with parameter optimization\n",
    "    nested_scores = cross_val_score(estimator = est, X = X, y = y, cv = outer_cv, scoring = p_score, n_jobs = n_cores)\n",
    "    \n",
    "    print('Average score: %0.4f (+/- %0.4f)' % (nested_scores.mean(), nested_scores.std() * 1.96))\n",
    "    \n",
    "    return nested_scores, ests"
   ]
  },
  {
   "cell_type": "code",
   "execution_count": 36,
   "metadata": {},
   "outputs": [
    {
     "name": "stdout",
     "output_type": "stream",
     "text": [
      "Average score: 0.8725 (+/- 0.0000)\n",
      "CPU times: user 551 ms, sys: 154 ms, total: 705 ms\n",
      "Wall time: 1min 8s\n"
     ]
    }
   ],
   "source": [
    "%%time\n",
    "seed=0\n",
    "array = []\n",
    "\n",
    "# Standardize features and classifier in a single pipeline\n",
    "array.append(('standardize', StandardScaler()))\n",
    "array.append(('XGB_clf', XGBClassifier()))\n",
    "pipe = Pipeline(array)\n",
    "pipe.set_params(XGB_clf__random_state = seed)\n",
    "\n",
    "# Possible optimized values \n",
    "p_grid = {\"XGB_clf__n_estimators\": [int(i) for i in np.linspace(10.0, 40.0, 5)]}\n",
    "\n",
    "nested_scores_xgb, ests_xgb = nested_cv(X = encoded, y = target, est_pipe = pipe, p_grid = p_grid, p_score = 'accuracy', n_cores = -1)"
   ]
  },
  {
   "cell_type": "code",
   "execution_count": 37,
   "metadata": {},
   "outputs": [
    {
     "name": "stdout",
     "output_type": "stream",
     "text": [
      "Optimal Gradient Boosted trees model score : 0.8702067922206126\n"
     ]
    }
   ],
   "source": [
    "#Building the model with the best parameter found\n",
    "\n",
    "optimal_param = list(p_grid.values())[0][np.argmax(nested_scores_xgb)]\n",
    "optimal_all_xgb =  XGBClassifier(n_estimators=optimal_param)\n",
    "optimal_all_xgb.fit(X_train,y_train)\n",
    "\n",
    "xgb_pred = optimal_all_xgb.predict(X_test)\n",
    "score = accuracy_score(y_test, xgb_pred)\n",
    "\n",
    "print(\"Optimal Gradient Boosted trees model score : \" + str(score))"
   ]
  },
  {
   "cell_type": "markdown",
   "metadata": {},
   "source": [
    "### Random Forest :"
   ]
  },
  {
   "cell_type": "code",
   "execution_count": 38,
   "metadata": {},
   "outputs": [
    {
     "name": "stdout",
     "output_type": "stream",
     "text": [
      "best NS = 100 with auc score = 0.8600\n",
      "rf classifer auc = 0.8602\n"
     ]
    }
   ],
   "source": [
    "# Define a random classifier pipeline\n",
    "estimators = []\n",
    "\n",
    "# Standardize features and classifier in a single pipeline\n",
    "estimators.append(('standardize', StandardScaler()))\n",
    "estimators.append(('rf_clf', RandomForestClassifier()))\n",
    "pipeline = Pipeline(estimators)\n",
    "pipeline.set_params(rf_clf__random_state = seed)\n",
    "    \n",
    "# Finding best value of n_estimators using validation set\n",
    "scores = []\n",
    "NSs = []\n",
    "for NS in [int(i) for i in np.linspace(10, 100, 10)]:\n",
    "    pipeline.set_params(rf_clf__n_estimators = NS) \n",
    "    pipeline.fit(X_train_train,y_train_train)\n",
    "    y_train_pred = pipeline.predict(X_train_val)\n",
    "    scores.append(accuracy_score(y_train_val, y_train_pred))\n",
    "    NSs.append(NS)\n",
    "\n",
    "best_NS = NSs[scores.index(max(scores))]\n",
    "print ('best NS = %d with auc score = %2.4f' %(best_NS, max(scores)))\n",
    "\n",
    "# Performance of the tuned model on test set\n",
    "pipeline.set_params(rf_clf__n_estimators = best_NS)\n",
    "pipeline.fit(X_train,y_train)\n",
    "y_pred_rf = pipeline.predict(X_test)\n",
    "score = accuracy_score(y_test, y_pred_rf)\n",
    "print ('rf classifer auc = %2.4f' %score)"
   ]
  },
  {
   "cell_type": "markdown",
   "metadata": {},
   "source": [
    "### KNN :"
   ]
  },
  {
   "cell_type": "code",
   "execution_count": 39,
   "metadata": {},
   "outputs": [
    {
     "name": "stdout",
     "output_type": "stream",
     "text": [
      "The optimal number of neighbors is 29\n"
     ]
    }
   ],
   "source": [
    "# creating odd list of K for KNN\n",
    "numbers = list(range(1,30))\n",
    "\n",
    "# subsetting just the odd ones\n",
    "neighbors = list(filter(lambda x: x % 2 != 0, numbers))\n",
    "\n",
    "# empty list that will hold cv scores\n",
    "cv_scores = []\n",
    "\n",
    "# perform 5-fold cross validation\n",
    "for n in neighbors:\n",
    "    knn = KNeighborsClassifier(n_neighbors=n)\n",
    "    scores = cross_val_score(knn, X_train, y_train, cv=5, scoring='accuracy')\n",
    "    cv_scores.append(scores.mean())\n",
    "\n",
    "\n",
    "# determining best number of neighbors n\n",
    "optimal_n = neighbors[np.argmax(cv_scores)]\n",
    "print(\"The optimal number of neighbors is %d\" % optimal_n)"
   ]
  },
  {
   "cell_type": "code",
   "execution_count": 40,
   "metadata": {},
   "outputs": [
    {
     "name": "stdout",
     "output_type": "stream",
     "text": [
      "The final score for KNN : 0.8697067986307868\n"
     ]
    }
   ],
   "source": [
    "#Building optimal model with that n \n",
    "\n",
    "knn = KNeighborsClassifier(n_neighbors=optimal_n)\n",
    "knn.fit(X_train, y_train)\n",
    "y_pred = knn.predict(X_test)\n",
    "\n",
    "score = accuracy_score(y_test, y_pred)\n",
    "\n",
    "print(\"The final score for KNN : \" + str(score))"
   ]
  },
  {
   "cell_type": "markdown",
   "metadata": {},
   "source": [
    "### Logistic Regression model "
   ]
  },
  {
   "cell_type": "code",
   "execution_count": 41,
   "metadata": {},
   "outputs": [
    {
     "name": "stdout",
     "output_type": "stream",
     "text": [
      "best C = 0 with auc score = 0.8724\n"
     ]
    }
   ],
   "source": [
    "estimators = []\n",
    "\n",
    "# Standardize features and classifier in a single pipeline\n",
    "estimators.append(('standardize', StandardScaler()))\n",
    "estimators.append(('lr_clf', LogisticRegression()))\n",
    "pipeline = Pipeline(estimators)\n",
    "pipeline.set_params(lr_clf__penalty='l1')\n",
    "\n",
    "# Finding best value of C using validation set\n",
    "scores = []\n",
    "Cs = []\n",
    "for C in np.logspace(-4, 5, 10):\n",
    "    pipeline.set_params(lr_clf__C=C) \n",
    "    pipeline.fit(X_train_train,y_train_train)\n",
    "    y_train_pred = pipeline.predict(X_train_val)\n",
    "    scores.append(accuracy_score(y_train_val, y_train_pred))\n",
    "    Cs.append(C)\n",
    "\n",
    "best_C = Cs[scores.index(max(scores))]\n",
    "print ('best C = %d with auc score = %2.4f' %(best_C, max(scores)))"
   ]
  },
  {
   "cell_type": "code",
   "execution_count": 42,
   "metadata": {},
   "outputs": [
    {
     "name": "stdout",
     "output_type": "stream",
     "text": [
      "lr classifer score with l1 regularization = 0.8702\n"
     ]
    }
   ],
   "source": [
    "# Performance of the tuned model on test set\n",
    "\n",
    "pipeline.set_params(lr_clf__C=best_C)\n",
    "pipeline.fit(X_train,y_train)\n",
    "y_pred = pipeline.predict(X_test)\n",
    "score = accuracy_score(y_test, y_pred)\n",
    "print ('lr classifer score with l1 regularization = %2.4f' %score)"
   ]
  },
  {
   "cell_type": "markdown",
   "metadata": {},
   "source": [
    "**We can hence see that our best model is obtained when using Gradient boosted trees, getting 87,021% of the predictions right.**"
   ]
  },
  {
   "cell_type": "code",
   "execution_count": null,
   "metadata": {},
   "outputs": [],
   "source": []
  }
 ],
 "metadata": {
  "kernelspec": {
   "display_name": "Python [conda env:anaconda3]",
   "language": "python",
   "name": "conda-env-anaconda3-py"
  },
  "language_info": {
   "codemirror_mode": {
    "name": "ipython",
    "version": 3
   },
   "file_extension": ".py",
   "mimetype": "text/x-python",
   "name": "python",
   "nbconvert_exporter": "python",
   "pygments_lexer": "ipython3",
   "version": "3.6.5"
  },
  "toc": {
   "base_numbering": 1,
   "nav_menu": {},
   "number_sections": true,
   "sideBar": true,
   "skip_h1_title": false,
   "title_cell": "Table of Contents",
   "title_sidebar": "Contents",
   "toc_cell": true,
   "toc_position": {
    "height": "calc(100% - 180px)",
    "left": "10px",
    "top": "150px",
    "width": "221px"
   },
   "toc_section_display": true,
   "toc_window_display": false
  },
  "varInspector": {
   "cols": {
    "lenName": 16,
    "lenType": 16,
    "lenVar": 40
   },
   "kernels_config": {
    "python": {
     "delete_cmd_postfix": "",
     "delete_cmd_prefix": "del ",
     "library": "var_list.py",
     "varRefreshCmd": "print(var_dic_list())"
    },
    "r": {
     "delete_cmd_postfix": ") ",
     "delete_cmd_prefix": "rm(",
     "library": "var_list.r",
     "varRefreshCmd": "cat(var_dic_list()) "
    }
   },
   "types_to_exclude": [
    "module",
    "function",
    "builtin_function_or_method",
    "instance",
    "_Feature"
   ],
   "window_display": false
  }
 },
 "nbformat": 4,
 "nbformat_minor": 2
}
